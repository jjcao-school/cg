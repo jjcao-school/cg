{
  "nbformat": 4,
  "nbformat_minor": 0,
  "metadata": {
    "kernelspec": {
      "display_name": "Python 3",
      "language": "python",
      "name": "python3"
    },
    "language_info": {
      "codemirror_mode": {
        "name": "ipython",
        "version": 3
      },
      "file_extension": ".py",
      "mimetype": "text/x-python",
      "name": "python",
      "nbconvert_exporter": "python",
      "pygments_lexer": "ipython3",
      "version": "3.7.9"
    },
    "colab": {
      "name": "NumpyTutorial Blank.ipynb",
      "provenance": []
    }
  },
  "cells": [
    {
      "cell_type": "markdown",
      "metadata": {
        "id": "aOoSi4ISsBsk"
      },
      "source": [
        "# Quick and Dirty Guide To Numpy\n",
        "\n",
        "\n",
        "**So you want to learn about numpy?**\n",
        "\n",
        "Numpy is an important library for anyone wanting to work with large scale datasets in Python.  Numpy arrays provide value because they are easier and faster to manipulate than traditional python lists.\n",
        "\n",
        "### Why use numpy arrays instead of Python lists?\n",
        "\n",
        "1. Saves you time as a programmer: when using lists, you have to use loops to apply a function to each element of an array.  In numpy, all common mathematical computations can be vectorized.  This leads to a much faster runtime, as well as fewer lines of code. \n",
        "\n",
        "2. Under the hood, numpy arrays use less memory, and are constrained to a single data type, which enables faster execution."
      ]
    },
    {
      "cell_type": "markdown",
      "metadata": {
        "id": "m0-CEUF-sBsr"
      },
      "source": [
        "<img src=\"memory_diagram.png\">\n",
        "\n",
        "The figure above shows the memory diagram of a numpy array.  Python lists have special functionality where their elements don't all have to be of the same type.  As a result, under the hood python lists are actually an array of pointers that point to the actual array elements.  Hopefully, this fact provides some intuition as to why many operations run faster with numpy arrays as the underlying data structure! Neat!"
      ]
    },
    {
      "cell_type": "markdown",
      "metadata": {
        "id": "M_W_OZepsBss"
      },
      "source": [
        "### Let's get started!"
      ]
    },
    {
      "cell_type": "code",
      "metadata": {
        "id": "3UR0ps8lsBss"
      },
      "source": [
        "#It's a common convention to abbreviate numpy as np\n",
        "import numpy as np"
      ],
      "execution_count": 2,
      "outputs": []
    },
    {
      "cell_type": "markdown",
      "metadata": {
        "id": "wujPR2T6sBst"
      },
      "source": [
        "### Creating a Numpy Array\n",
        "There are many ways to create a numpy array.  In general, the options are \n",
        "- converting other Python data structures to np.array format\n",
        "- numpy functions that create new arrays (i.e. np.ones, np.zeros, np.arange)\n",
        "- reading files from disk (in this class, mostly images)"
      ]
    },
    {
      "cell_type": "markdown",
      "metadata": {
        "id": "05bDz8VhsBst"
      },
      "source": [
        "Note that unlike lists, you can't create an empty numpy array"
      ]
    },
    {
      "cell_type": "code",
      "metadata": {
        "id": "6zWaiTtTsBst",
        "outputId": "b229c0f0-05a2-4558-f1aa-b5e00da45a6e",
        "colab": {
          "base_uri": "https://localhost:8080/"
        }
      },
      "source": [
        "# create a 1 dimensional array from a list: [1,2,3,4,5]\n",
        "print(\"1 dimensional: \")\n",
        "x = np.array([1,2,3,4,5])\n",
        "print(\"Shape: \", x.shape)\n",
        "x"
      ],
      "execution_count": 3,
      "outputs": [
        {
          "output_type": "stream",
          "text": [
            "1 dimensional: \n",
            "Shape:  (5,)\n"
          ],
          "name": "stdout"
        },
        {
          "output_type": "execute_result",
          "data": {
            "text/plain": [
              "array([1, 2, 3, 4, 5])"
            ]
          },
          "metadata": {
            "tags": []
          },
          "execution_count": 3
        }
      ]
    },
    {
      "cell_type": "code",
      "metadata": {
        "id": "PBN_Tz3qsBsu",
        "outputId": "6b9fb8fa-fd68-4f16-859e-863b55950766",
        "colab": {
          "base_uri": "https://localhost:8080/"
        }
      },
      "source": [
        "# Create a 2-d array from multiple lists: \n",
        "    # first row = [1,2,3,4,5]\n",
        "    # second row = [6,7,8,9,10]\n",
        "print(\"2 dimensional: \")\n",
        "y = np.array([[1,2,3,4,5], [6,7,8,9,10]])\n",
        "print(\"Shape: \", y.shape)\n",
        "y"
      ],
      "execution_count": 4,
      "outputs": [
        {
          "output_type": "stream",
          "text": [
            "2 dimensional: \n",
            "Shape:  (2, 5)\n"
          ],
          "name": "stdout"
        },
        {
          "output_type": "execute_result",
          "data": {
            "text/plain": [
              "array([[ 1,  2,  3,  4,  5],\n",
              "       [ 6,  7,  8,  9, 10]])"
            ]
          },
          "metadata": {
            "tags": []
          },
          "execution_count": 4
        }
      ]
    },
    {
      "cell_type": "code",
      "metadata": {
        "id": "GeJV7wdDsBsu",
        "outputId": "6ecb0056-3f95-4485-eef4-956914ad928a",
        "colab": {
          "base_uri": "https://localhost:8080/"
        }
      },
      "source": [
        "# you can create an array of any dimensions using np.zeros\n",
        "z = np.zeros((3,3))\n",
        "z"
      ],
      "execution_count": 5,
      "outputs": [
        {
          "output_type": "execute_result",
          "data": {
            "text/plain": [
              "array([[0., 0., 0.],\n",
              "       [0., 0., 0.],\n",
              "       [0., 0., 0.]])"
            ]
          },
          "metadata": {
            "tags": []
          },
          "execution_count": 5
        }
      ]
    },
    {
      "cell_type": "code",
      "metadata": {
        "id": "hidMUqY7sBsu",
        "outputId": "f0c221b6-ebee-4428-f04b-30cc985328ad",
        "colab": {
          "base_uri": "https://localhost:8080/"
        }
      },
      "source": [
        "#other handy things\n",
        "identity = np.identity(3)\n",
        "print(identity)\n",
        "\n",
        "ones = np.ones((2,2))\n",
        "ones"
      ],
      "execution_count": 6,
      "outputs": [
        {
          "output_type": "stream",
          "text": [
            "[[1. 0. 0.]\n",
            " [0. 1. 0.]\n",
            " [0. 0. 1.]]\n"
          ],
          "name": "stdout"
        },
        {
          "output_type": "execute_result",
          "data": {
            "text/plain": [
              "array([[1., 1.],\n",
              "       [1., 1.]])"
            ]
          },
          "metadata": {
            "tags": []
          },
          "execution_count": 6
        }
      ]
    },
    {
      "cell_type": "markdown",
      "metadata": {
        "id": "AM7BqZ7IsBsu"
      },
      "source": [
        "### Array attributes"
      ]
    },
    {
      "cell_type": "markdown",
      "metadata": {
        "id": "uoVUNYy2sBsv"
      },
      "source": [
        "Every numpy array is a grid of elements of the same type. Numpy provides a large set of numeric datatypes that you can use to construct arrays. Numpy tries to guess a datatype when you create an array, but functions that construct arrays usually also include an optional argument to explicitly specify the datatype. Take a look at the attributes associated with a numpy array, and then we'll explore how numpy arrays determine their type."
      ]
    },
    {
      "cell_type": "code",
      "metadata": {
        "id": "hmKTa089sBsv",
        "outputId": "72fda4e5-3eb3-4ab0-ce21-158fea69d011",
        "colab": {
          "base_uri": "https://localhost:8080/"
        }
      },
      "source": [
        "print(identity.shape) #returns tuple of dimensions\n",
        "print(identity.size) # returns total number of elements\n",
        "print(identity.dtype) #the default dtype is float64"
      ],
      "execution_count": 7,
      "outputs": [
        {
          "output_type": "stream",
          "text": [
            "(3, 3)\n",
            "9\n",
            "float64\n"
          ],
          "name": "stdout"
        }
      ]
    },
    {
      "cell_type": "code",
      "metadata": {
        "id": "O-GPKE7ysBsv",
        "outputId": "086ce25d-29b4-400c-abd7-831b876f23c6",
        "colab": {
          "base_uri": "https://localhost:8080/"
        }
      },
      "source": [
        "x = np.array([1, 2])  # Let numpy choose the datatype\n",
        "y = np.array([1.0, 2.0])  # Let numpy choose the datatype\n",
        "z = np.array([1, 2], dtype=np.int64)  # Force a particular datatype\n",
        "\n",
        "print(x.dtype, y.dtype, z.dtype)"
      ],
      "execution_count": 8,
      "outputs": [
        {
          "output_type": "stream",
          "text": [
            "int64 float64 int64\n"
          ],
          "name": "stdout"
        }
      ]
    },
    {
      "cell_type": "markdown",
      "metadata": {
        "id": "iKOBrf_fsBsw"
      },
      "source": [
        "### Accessing elements"
      ]
    },
    {
      "cell_type": "markdown",
      "metadata": {
        "id": "pizJ8UdSsBsw"
      },
      "source": [
        "Numpy offers several ways to index into arrays. When arrays are one dimensional, indexing works just like lists. When arrays are 2 or more dimensional, you specify an index for each dimension:\n",
        "\n",
        "`value = array[row_index, col_index]`"
      ]
    },
    {
      "cell_type": "code",
      "metadata": {
        "id": "oJ55aEjasBsw",
        "outputId": "3cb680a9-8d69-4cff-88c9-74a30a2e46f3",
        "colab": {
          "base_uri": "https://localhost:8080/"
        }
      },
      "source": [
        "# Create a 2-dimensional array (matrix)\n",
        "# [[ 1  2  3]\n",
        "#  [ 4  5  6]]\n",
        "a = np.array([[1,2,3],[4,5,6]])   \n",
        "print(a)\n",
        "\n",
        "# Access the 3 with array indexing\n",
        "a_3 = a[0,2]\n",
        "print(\"expecting 3, got: \", a_3)\n",
        "\n",
        "# Access the 4 with array indexing\n",
        "a_4 = a[1,0]\n",
        "print(\"expecting 4, got: \", a_4)"
      ],
      "execution_count": 9,
      "outputs": [
        {
          "output_type": "stream",
          "text": [
            "[[1 2 3]\n",
            " [4 5 6]]\n",
            "expecting 3, got:  3\n",
            "expecting 4, got:  4\n"
          ],
          "name": "stdout"
        }
      ]
    },
    {
      "cell_type": "markdown",
      "metadata": {
        "id": "rc-DvZDzsBsx"
      },
      "source": [
        "Slicing: Similar to Python lists, numpy arrays can be sliced. Since arrays may be multidimensional, you must specify a slice for each dimension of the array. Recall how slicing works in lists:"
      ]
    },
    {
      "cell_type": "code",
      "metadata": {
        "id": "V78yRvirsBsz",
        "outputId": "542166ff-94fd-482a-aa04-6450922a8bae",
        "colab": {
          "base_uri": "https://localhost:8080/"
        }
      },
      "source": [
        "# Recall list slicing:\n",
        "l = [0,1,2,3,4]\n",
        "\n",
        "print(l)\n",
        "print(\"All elements of l: \", l[:])\n",
        "print(\"All after 2nd element: \", l[2:])\n",
        "print(\"All before 2nd element: \", l[:2])\n",
        "print(\"All between 1st and 3rd element exclusive: \", l[1:3])"
      ],
      "execution_count": 10,
      "outputs": [
        {
          "output_type": "stream",
          "text": [
            "[0, 1, 2, 3, 4]\n",
            "All elements of l:  [0, 1, 2, 3, 4]\n",
            "All after 2nd element:  [2, 3, 4]\n",
            "All before 2nd element:  [0, 1]\n",
            "All between 1st and 3rd element exclusive:  [1, 2]\n"
          ],
          "name": "stdout"
        }
      ]
    },
    {
      "cell_type": "markdown",
      "metadata": {
        "id": "n_K5WELWsBsz"
      },
      "source": [
        "Now let's try slicing in two dimensions!"
      ]
    },
    {
      "cell_type": "code",
      "metadata": {
        "id": "08ZxkrIQsBsz",
        "outputId": "d2882052-d0d5-44b4-d661-8d307686fbe5",
        "colab": {
          "base_uri": "https://localhost:8080/",
          "height": 130
        }
      },
      "source": [
        "print(\"a = \\n\", a)\n",
        "\n",
        "# Access the 0th row of a:\n",
        "a_row0 =\n",
        "print(\"0th row expecting [1,2,3], got: \", a_row0)\n",
        "\n",
        "# Access the 0th column of a\n",
        "a_col0 = \n",
        "print(\"0th column expecting [1,4], got: \", a_col0)"
      ],
      "execution_count": 11,
      "outputs": [
        {
          "output_type": "error",
          "ename": "SyntaxError",
          "evalue": "ignored",
          "traceback": [
            "\u001b[0;36m  File \u001b[0;32m\"<ipython-input-11-d82176339e01>\"\u001b[0;36m, line \u001b[0;32m4\u001b[0m\n\u001b[0;31m    a_row0 =\u001b[0m\n\u001b[0m            ^\u001b[0m\n\u001b[0;31mSyntaxError\u001b[0m\u001b[0;31m:\u001b[0m invalid syntax\n"
          ]
        }
      ]
    },
    {
      "cell_type": "code",
      "metadata": {
        "id": "jDDLrW9GsBs0"
      },
      "source": [
        "# TODO: Create the following rank 2 array with shape (3, 4)\n",
        "# [[ 1,  2,  3,  4]\n",
        "#  [ 5,  6,  7,  8]\n",
        "#  [ 9, 10, 11, 12]\n",
        "#  [13, 14, 15, 16]]\n",
        "\n",
        "# HINT: if you want to take a fancy shortcut, use np.arange() to create this matrix\n",
        "\n",
        "b = \n",
        "print(b)"
      ],
      "execution_count": null,
      "outputs": []
    },
    {
      "cell_type": "code",
      "metadata": {
        "id": "0Sxp_t1PsBs0"
      },
      "source": [
        "# TODO: use slicing to pull out the middle two rows\n",
        "b_rows = \n",
        "print(\"middle two rows: \\n\", b_rows)\n",
        "\n",
        "# TODO: use slicing to pull out the middle two columns\n",
        "b_cols = \n",
        "print(\"middle two columns: \\n\", b_cols)\n",
        "\n",
        "# TODO: use slicing to pull out only the middle two rows and middle two columns,\n",
        "# meaning a (2,2) array: \n",
        "# [[6 7]\n",
        "#  [10 11]]\n",
        "b_center = \n",
        "print(\"center two columns and two rows: \\n\", b_center)\n"
      ],
      "execution_count": null,
      "outputs": []
    },
    {
      "cell_type": "markdown",
      "metadata": {
        "id": "sVEouMdXsBs0"
      },
      "source": [
        "A slice of an array is a view into the same data, so modifying it will modify the original array."
      ]
    },
    {
      "cell_type": "code",
      "metadata": {
        "id": "jCWJtMOtsBs1"
      },
      "source": [
        "# [[ 1  2  3]\n",
        "#  [ 4  5  6]]\n",
        "a = np.array([[1,2,3],[4,5,6]])   \n",
        "print(\"original a = \\n\", a)\n",
        "\n",
        "a_row0 = a[0,:]\n",
        "a_row0[1] = 100 # a_row0[1] is the same piece of data as a[0, 1]\n",
        "\n",
        "print(\"new a = \\n\", a)"
      ],
      "execution_count": null,
      "outputs": []
    },
    {
      "cell_type": "markdown",
      "metadata": {
        "id": "Ung9cN6OsBs1"
      },
      "source": [
        "### Matrix Operations\n",
        "Numpy makes it easy to do matrix operations on arrays, like multiply, invert, etc. Basic mathematical functions operate elementwise on arrays, and are available both as operator overloads and as functions in the numpy module"
      ]
    },
    {
      "cell_type": "code",
      "metadata": {
        "id": "gvA1ofo7sBs1"
      },
      "source": [
        "x = np.array([[1,2],[3,4]], dtype=np.float64)\n",
        "y = np.array([[5,6],[7,8]], dtype=np.float64)\n",
        "\n",
        "print(\"x = \\n\", x)\n",
        "print(x.dtype)\n",
        "print(\"y = \\n\", y)\n",
        "print(y.dtype)\n",
        "\n"
      ],
      "execution_count": null,
      "outputs": []
    },
    {
      "cell_type": "code",
      "metadata": {
        "id": "mLECcJ37sBs1"
      },
      "source": [
        "#all arithmetic operations are applied to a matrix element-wise\n",
        "print(\"Original x: \")\n",
        "print(x)\n",
        "print(\"\\nx+1\")\n",
        "print(x + 1)\n",
        "print(\"\\nx*4.5\")\n",
        "print(4.5*x)\n",
        "print(\"\\nx/2.0\")\n",
        "print(x/2.0)"
      ],
      "execution_count": null,
      "outputs": []
    },
    {
      "cell_type": "code",
      "metadata": {
        "id": "xXmbpfY_sBs2"
      },
      "source": [
        "# Elementwise sum; both produce the array\n",
        "print(\"x = \\n\", x)\n",
        "print(\"y = \\n\", y)\n",
        "print(\"\\nx+y:\")\n",
        "print(x + y)\n",
        "print(np.add(x, y))"
      ],
      "execution_count": null,
      "outputs": []
    },
    {
      "cell_type": "code",
      "metadata": {
        "id": "2lr6MUwxsBs2"
      },
      "source": [
        "# Elementwise difference; both produce the array\n",
        "print(\"x = \\n\", x)\n",
        "print(\"y = \\n\", y)\n",
        "print(\"\\nx-y:\")\n",
        "print(x - y)\n",
        "print(np.subtract(x, y))"
      ],
      "execution_count": null,
      "outputs": []
    },
    {
      "cell_type": "code",
      "metadata": {
        "id": "v_KkIzY6sBs2"
      },
      "source": [
        "# Elementwise product; both produce the array\n",
        "print(\"x = \\n\", x)\n",
        "print(\"y = \\n\", y)\n",
        "print(\"\\nx*y:\")\n",
        "print(x * y)\n",
        "print(np.multiply(x, y))"
      ],
      "execution_count": null,
      "outputs": []
    },
    {
      "cell_type": "code",
      "metadata": {
        "id": "JrunJpvmsBs2"
      },
      "source": [
        "# Elementwise division; both produce the array\n",
        "# [[ 0.2         0.33333333]\n",
        "#  [ 0.42857143  0.5       ]]\n",
        "print(\"x = \\n\", x)\n",
        "print(\"y = \\n\", y)\n",
        "print(\"\\nx/y:\")\n",
        "print(x / y)\n",
        "print(np.divide(x, y))"
      ],
      "execution_count": null,
      "outputs": []
    },
    {
      "cell_type": "code",
      "metadata": {
        "id": "6Jc7KDADsBs3"
      },
      "source": [
        "# Elementwise square root; produces the array\n",
        "# [[ 1.          1.41421356]\n",
        "#  [ 1.73205081  2.        ]]\n",
        "print(\"x = \\n\", x)\n",
        "print(\"\\nsqrt(x):\")\n",
        "print(np.sqrt(x))"
      ],
      "execution_count": null,
      "outputs": []
    },
    {
      "cell_type": "code",
      "metadata": {
        "id": "QWD8LZ3CsBs3"
      },
      "source": [
        "# Elementwise power; produces the array\n",
        "# [[ 1.          1.41421356]\n",
        "#  [ 1.73205081  2.        ]]\n",
        "print(\"x = \\n\", x)\n",
        "print(\"\\nx^2:\")\n",
        "print(np.power(x,2))"
      ],
      "execution_count": null,
      "outputs": []
    },
    {
      "cell_type": "code",
      "metadata": {
        "id": "U5XH9XKqsBs3"
      },
      "source": [
        "# Will this multiplication operator do elementwise multiplication or matrix multiplication?\n",
        "x*y"
      ],
      "execution_count": null,
      "outputs": []
    },
    {
      "cell_type": "markdown",
      "metadata": {
        "id": "e2KbJTf3sBs3"
      },
      "source": [
        "Let's practice these operations!\n",
        "\n",
        "Given arrays x and y, write array z as a function of x and y: z[0] = x[0] - y[0], and z[1] = x[1] - y[1]. Use numpy operations!\n",
        "\n",
        "Hint: think about how the 2 equations may be written with vector operations (such as those above), and that will translate cleanly to numpy "
      ]
    },
    {
      "cell_type": "code",
      "metadata": {
        "id": "voWOz18IsBs4"
      },
      "source": [
        "# TODO\n",
        "x = np.array([1,3])\n",
        "y = np.array([2,5])\n",
        "z = np.array([-1,-2])\n",
        "\n",
        "z_computed = \n",
        "print(\"Your answer: \", z_computed)\n",
        "print(\"Expecting: \", z)\n",
        "if z.all() == z_computed.all():\n",
        "    print(\"Correct!\")\n",
        "else:\n",
        "    print(\"Try thinking of a numpy function above with x and y that gets you equivalent to z\")"
      ],
      "execution_count": null,
      "outputs": []
    },
    {
      "cell_type": "markdown",
      "metadata": {
        "id": "QrAoRD9xsBs4"
      },
      "source": [
        "Now, try using the numpy functions to calculate x = ((a+b)*c) - d\n",
        "\n",
        "If you get stuck, try following the order of operations with the parenthesis and compute a+b first and verify by hand, and then proceed to (a+b)*c, and so on."
      ]
    },
    {
      "cell_type": "code",
      "metadata": {
        "id": "YP7tjXsisBs4"
      },
      "source": [
        "\n",
        "a = np.array([1,3])\n",
        "b = np.array([1,1])\n",
        "c = np.array([2,1/2])\n",
        "d = np.array([1,1])\n",
        "x = np.array([3,1])\n",
        "\n",
        "# TODO\n",
        "#answer = \n",
        "\n",
        "print(\"Your answer: \", answer)\n",
        "print(\"Expecting: \", x)\n",
        "if x.all() == answer.all():\n",
        "    print(\"Correct!\")\n",
        "else:\n",
        "    print(\"Try thinking of a which numpy functions above with a,b, and c gets you equivalent to x\")"
      ],
      "execution_count": null,
      "outputs": []
    },
    {
      "cell_type": "markdown",
      "metadata": {
        "id": "BqkdNhHQsBs4"
      },
      "source": [
        "### Axis-based operations"
      ]
    },
    {
      "cell_type": "markdown",
      "metadata": {
        "id": "OUOWE24jsBs4"
      },
      "source": [
        "Now that we've covered 2d indexing, there's some important numpy functions that operate on a particular axis, so let's get hands on with sum()! Many numpy operations including sum, max, argmax, mean, standard deviation operate over a chosen axis of your array. \n",
        "\n",
        "Sum can sum all elements of the 2d array, or it can sum across each row, or sum down each column. \n",
        "\n",
        "Axis 0 corresponds to columns, and axis 1 corresponds to rows, just like indexing. When you apply an operation like sum over axis 0, that means axis 0 is being squashed into length 1 by the sum, max, etc. operation."
      ]
    },
    {
      "cell_type": "code",
      "metadata": {
        "id": "k1owNH98sBs5"
      },
      "source": [
        "#numpy arrays have builtin methods to calculate summary statistics such as std. dev., mean, min, max, sum\n",
        "y = np.random.random(9).reshape(3,3)\n",
        "print(\"std:\", y.std())\n",
        "print(\"mean:\", y.mean())\n",
        "print(\"sum:\", y.sum())\n",
        "\n",
        "print()\n",
        "#you can also do these operations with respect to a particular axis\n",
        "print(\"std (rows):\", y.std(axis = 1))\n",
        "print(\"mean (rows):\", y.mean(axis = 1))"
      ],
      "execution_count": null,
      "outputs": []
    },
    {
      "cell_type": "code",
      "metadata": {
        "id": "MFwq2nBmsBs5"
      },
      "source": [
        "# Sum of an array along various axes\n",
        "x = np.array([[1,2],[3,4]])\n",
        "print(x)\n",
        "print()\n",
        "print(np.sum(x))  # Compute sum of all elements; prints \"10\"\n",
        "print()\n",
        "print(np.sum(x, axis=0))  # Compute sum of each column; prints \"[4 6]\"\n",
        "print()\n",
        "print(np.sum(x, axis=1)) # Compute sum of each row; prints \"[3 7]\""
      ],
      "execution_count": null,
      "outputs": []
    },
    {
      "cell_type": "code",
      "metadata": {
        "id": "lgK2W056sBs5"
      },
      "source": [
        "# Sum of a vector doesn't need to specify axis since there's only one axis\n",
        "x = np.array([1,2,3])\n",
        "print(x)\n",
        "print(np.sum(x))"
      ],
      "execution_count": null,
      "outputs": []
    },
    {
      "cell_type": "markdown",
      "metadata": {
        "id": "MNLLdJQksBs6"
      },
      "source": [
        "Your turn!"
      ]
    },
    {
      "cell_type": "code",
      "metadata": {
        "id": "95guWQbnsBs6"
      },
      "source": [
        "# Get hands-on with sum! Guess what the output will be and then run it to confirm\n",
        "x = np.array([[1,2,3],[4,5,6],[3,2,1]])\n",
        "print(\"x = \\n\", x)\n"
      ],
      "execution_count": null,
      "outputs": []
    },
    {
      "cell_type": "code",
      "metadata": {
        "id": "P_DPnDm2sBs6"
      },
      "source": [
        "#np.sum(x)\n",
        "# TODO:\n",
        "guess = \n",
        "print(\"Your guess for np.sum(x): \", guess)\n",
        "print(\"Actual = \", np.sum(x))"
      ],
      "execution_count": null,
      "outputs": []
    },
    {
      "cell_type": "code",
      "metadata": {
        "id": "GfoBRI5_sBs6"
      },
      "source": [
        "#np.sum(x, axis=1)\n",
        "# TODO:\n",
        "guess = \n",
        "print(\"Your guess for np.sum(x, axis=1): \", guess)\n",
        "print(\"Actual = \", np.sum(x, axis=1))"
      ],
      "execution_count": null,
      "outputs": []
    },
    {
      "cell_type": "code",
      "metadata": {
        "scrolled": true,
        "id": "92Km7N-_sBs6"
      },
      "source": [
        "#np.sum(x, axis=0)\n",
        "# TODO:\n",
        "guess =\n",
        "print(\"Your guess for np.sum(x, axis=0): \", guess)\n",
        "print(\"Actual = \", np.sum(x, axis=0))"
      ],
      "execution_count": null,
      "outputs": []
    },
    {
      "cell_type": "markdown",
      "metadata": {
        "id": "hPt3CMfOsBs7"
      },
      "source": [
        "# Demo\n",
        "Imagine I want to apply the function $f(x) = x^2 + x -6$ to every emelent of an array"
      ]
    },
    {
      "cell_type": "code",
      "metadata": {
        "id": "T_b_H9M7sBs7"
      },
      "source": [
        "#First let's try it with python lists\n",
        "import random\n",
        "random.seed(1)\n",
        "h = 1000\n",
        "w = 2\n",
        "\n",
        "def func(x):\n",
        "    return x**2 + x - 6\n",
        "\n",
        "first_list = [[random.randint(-10,10), random.randint(-10,10)] for i in range(h)]\n",
        "print(len(first_list))\n",
        "first_list[:10]\n"
      ],
      "execution_count": null,
      "outputs": []
    },
    {
      "cell_type": "code",
      "metadata": {
        "id": "ev4z86AHsBs7"
      },
      "source": [
        "%%time\n",
        "for i in range(h):\n",
        "    for j in range(w):\n",
        "        first_list[i][j] = func(first_list[i][j])"
      ],
      "execution_count": null,
      "outputs": []
    },
    {
      "cell_type": "code",
      "metadata": {
        "id": "9HTJwpp4sBs7"
      },
      "source": [
        "first_list[:10]"
      ],
      "execution_count": null,
      "outputs": []
    },
    {
      "cell_type": "markdown",
      "metadata": {
        "id": "Sfmm6LuRsBs7"
      },
      "source": [
        "### Now let's do the same thing with numpy arrays"
      ]
    },
    {
      "cell_type": "code",
      "metadata": {
        "id": "4R_F9VqosBs8"
      },
      "source": [
        "#By default, rand returns a rnadom number in the range [0,1) - so we normalize to get the values we want\n",
        "array = np.random.rand(h* w).reshape((h,w))\n",
        "array = array*20 - 10\n",
        "print(array[:10])"
      ],
      "execution_count": null,
      "outputs": []
    },
    {
      "cell_type": "code",
      "metadata": {
        "id": "5lJrk2e5sBs8"
      },
      "source": [
        "%%time\n",
        "array = array**2 + array - 6"
      ],
      "execution_count": null,
      "outputs": []
    },
    {
      "cell_type": "code",
      "metadata": {
        "scrolled": true,
        "id": "ANKQH9pNsBs8"
      },
      "source": [
        "#Check that it worked\n",
        "print(array[:10])"
      ],
      "execution_count": null,
      "outputs": []
    },
    {
      "cell_type": "markdown",
      "metadata": {
        "id": "oGX0Ttz9sBs8"
      },
      "source": [
        "### It's way faster!"
      ]
    },
    {
      "cell_type": "markdown",
      "metadata": {
        "id": "rf4WYJ53sBs8"
      },
      "source": [
        "### Some other useful manipulations\n",
        "A complete list of possible array manipulations can be found here:\n",
        "https://numpy.org/devdocs/reference/routines.array-manipulation.html"
      ]
    },
    {
      "cell_type": "code",
      "metadata": {
        "id": "BXt45cqXsBs9"
      },
      "source": [
        "np.concatenate((x,y), axis = 0)"
      ],
      "execution_count": null,
      "outputs": []
    },
    {
      "cell_type": "code",
      "metadata": {
        "id": "aVGvHmP4sBs9"
      },
      "source": [
        "result = np.concatenate((x,y), axis = 1)\n",
        "result"
      ],
      "execution_count": null,
      "outputs": []
    },
    {
      "cell_type": "code",
      "metadata": {
        "id": "uWFghpCZsBs9"
      },
      "source": [
        "#not an inplace operation, if you want it to persist you need to reassign the variable using =\n",
        "np.transpose(result)"
      ],
      "execution_count": null,
      "outputs": []
    },
    {
      "cell_type": "code",
      "metadata": {
        "id": "lHF_ZfNPsBs9"
      },
      "source": [
        "#to invert a matrix use np.linalg.inv\n",
        "x = np.array([[1,1], [1,0]])\n",
        "np.linalg.inv(x)"
      ],
      "execution_count": null,
      "outputs": []
    },
    {
      "cell_type": "markdown",
      "metadata": {
        "id": "33CYPU-4sBs9"
      },
      "source": [
        "### Numpy for Linear Algebra"
      ]
    },
    {
      "cell_type": "markdown",
      "metadata": {
        "id": "OwPmNh6AsBs9"
      },
      "source": [
        "#### Dot products"
      ]
    },
    {
      "cell_type": "markdown",
      "metadata": {
        "id": "ChlHquvwsBs-"
      },
      "source": [
        "We'll first define vectors v and w. Recall that the dot product of two vectors is calculating by multiplying each corresponding value and then summing the result. Let's start by computing the dot product with a for loop"
      ]
    },
    {
      "cell_type": "code",
      "metadata": {
        "id": "Ue8qdKlFsBs-"
      },
      "source": [
        "v = np.array([1,2,3])\n",
        "w = np.array([4,5,6])\n",
        "\n",
        "print(\"v = \\n\", v)\n",
        "print(\"w = \\n\", w)\n",
        "print(\"expected dot product = 32\")\n",
        "\n",
        "# TODO: compute dot product of v and w with a for loop\n",
        "# note: length of a 1 dimensional array  = len(array) or array.shape[0]\n",
        "\n",
        "forloop_dotproduct = 0\n",
        "print(forloop_dotproduct)\n",
        "\n"
      ],
      "execution_count": null,
      "outputs": []
    },
    {
      "cell_type": "code",
      "metadata": {
        "id": "TtS9j0JysBs-"
      },
      "source": [
        "# TODO: compute dot product of v and w with numpy functions \n",
        "# hint: addition and summation are the key operations in a dot product\n",
        "\n",
        "np_dotproduct =\n",
        "print(np_dotproduct)\n"
      ],
      "execution_count": null,
      "outputs": []
    },
    {
      "cell_type": "code",
      "metadata": {
        "id": "l0Q1SajIsBs-"
      },
      "source": [
        "# TODO: two ways of using np.dot() to compute the same dot product\n"
      ],
      "execution_count": null,
      "outputs": []
    },
    {
      "cell_type": "markdown",
      "metadata": {
        "id": "pspCtQgOsBs-"
      },
      "source": [
        "#### Matrix-vector product"
      ]
    },
    {
      "cell_type": "markdown",
      "metadata": {
        "id": "YHkBjTPLsBtA"
      },
      "source": [
        "We'll first define matrix M and vector v. Recall that matrix multiplication between a matrix and a vector involves computing a dot product between each row of the matrix M and the vector v. \n",
        "\n",
        "In machine learning, M is typically a matrix of learned parameters where each row corresponds to one of the output predictions, which is a weighted sum of the input features from v. The features v change for every new example but the weights M are applied to every example in training and testing data.\n",
        "\n"
      ]
    },
    {
      "cell_type": "code",
      "metadata": {
        "id": "jsLNjPdMsBtA"
      },
      "source": [
        "M = np.array([[1,2,3],[3,2,1]])\n",
        "v = np.array([4,1,2])\n",
        "\n",
        "print(\"M = \\n\", M)\n",
        "print(\"v = \\n\", v)\n",
        "print(\"Result = \\n[12, 16]\")"
      ],
      "execution_count": null,
      "outputs": []
    },
    {
      "cell_type": "code",
      "metadata": {
        "id": "mNVY-RsSsBtA"
      },
      "source": [
        "# TODO: get each row of M using array slicing\n",
        "# M_row0 = M[?]\n",
        "# M_row1 = M[?]\n",
        "\n",
        "# TODO: compute the dot product of each row of M with v\n",
        "# row0_dotproduct = np.dot(?)\n",
        "# row1_dotproduct = np.dot(?)\n",
        "\n",
        "# answer = \n",
        "print(\"np.dot matrix product = \\n\", answer)"
      ],
      "execution_count": null,
      "outputs": []
    },
    {
      "cell_type": "code",
      "metadata": {
        "id": "hsheCpkasBtB"
      },
      "source": [
        "# Use numpy's built in functionality to get the same result\n"
      ],
      "execution_count": null,
      "outputs": []
    },
    {
      "cell_type": "markdown",
      "metadata": {
        "id": "dhALDUt2sBtB"
      },
      "source": [
        "#### Matrix-Matrix multiplication"
      ]
    },
    {
      "cell_type": "code",
      "metadata": {
        "id": "RLu2RaFosBtB"
      },
      "source": [
        "A = np.array([[1,2],[3,4]])\n",
        "B = np.array([[4,3],[2,1]])\n",
        "\n",
        "print(\"A = \\n\", A)\n",
        "print(\"B = \\n\", B)"
      ],
      "execution_count": null,
      "outputs": []
    },
    {
      "cell_type": "code",
      "metadata": {
        "id": "2vYOE6q6sBtB"
      },
      "source": [
        "upper_left = \n",
        "print(\"upper left = \", upper_left)\n",
        "\n",
        "upper_right = \n",
        "print(\"upper right = \", upper_right)\n",
        "\n",
        "lower_left = \n",
        "print(\"lower left = \", lower_left)\n",
        "\n",
        "lower_right = \n",
        "print(\"lower right = \", lower_right)"
      ],
      "execution_count": null,
      "outputs": []
    },
    {
      "cell_type": "code",
      "metadata": {
        "id": "qKwvav5AsBtB"
      },
      "source": [
        "# Numpy matrix products:\n"
      ],
      "execution_count": null,
      "outputs": []
    },
    {
      "cell_type": "markdown",
      "metadata": {
        "id": "ywJ_6TMgsBtC"
      },
      "source": [
        "### Broadcasting\n",
        "The term broadcasting refers to how numpy treats doing arithmetic operations on arrays of different shapes.\n",
        "When operating on two arrays, NumPy compares their shapes element-wise. Two dimensions are compatible when\n",
        "* they are equal, or\n",
        "* one of them is 1\n",
        "\n",
        "If the dimensional are different, but one of them is 1, then numpy will apply the operation to each column on that axis"
      ]
    },
    {
      "cell_type": "code",
      "metadata": {
        "id": "Zrbr8nXVsBtC"
      },
      "source": [
        "x = np.array(range(5))\n",
        "x = x.reshape(5, 1)\n",
        "print(\"x is a column vector\")\n",
        "print()\n",
        "print(x.shape)\n",
        "print(x)\n",
        "\n",
        "y = np.ones((5))\n",
        "print(\"y is a row vector\")\n",
        "print(y.shape)\n",
        "print(y)"
      ],
      "execution_count": null,
      "outputs": []
    },
    {
      "cell_type": "code",
      "metadata": {
        "id": "cWYTfsrhsBtC"
      },
      "source": [
        "print(x+y)"
      ],
      "execution_count": null,
      "outputs": []
    },
    {
      "cell_type": "markdown",
      "metadata": {
        "id": "TMsZITIwsBtC"
      },
      "source": [
        "### Real world example of why broadcasting is useful"
      ]
    },
    {
      "cell_type": "code",
      "metadata": {
        "id": "V2-cXCcQsBtC"
      },
      "source": [
        "# Suppose we have a matrix where we want to normalize the rows to have mean zero\n",
        "matrix = 10*np.random.rand(4,5)\n",
        "matrix"
      ],
      "execution_count": null,
      "outputs": []
    },
    {
      "cell_type": "code",
      "metadata": {
        "id": "Exyc4Us1sBtD"
      },
      "source": [
        "row_means = matrix.mean(axis = 1).reshape((4,1))\n",
        "row_means"
      ],
      "execution_count": null,
      "outputs": []
    },
    {
      "cell_type": "code",
      "metadata": {
        "id": "WDc0yu5msBtD"
      },
      "source": [
        "matrix = matrix - row_means\n",
        "print(matrix)\n",
        "matrix.mean(axis = 1)"
      ],
      "execution_count": null,
      "outputs": []
    },
    {
      "cell_type": "markdown",
      "metadata": {
        "id": "184uht9DsBtD"
      },
      "source": [
        "### Using boolean masks\n",
        "In numpy, when you compare two arrays, you get a boolean mask as the output.  You can then use this boolean mask to grab specific values in an array."
      ]
    },
    {
      "cell_type": "code",
      "metadata": {
        "id": "-Y9b4KM9sBtD"
      },
      "source": [
        "array = np.array(range(20)).reshape((4,5))\n",
        "output = array > 10\n",
        "output"
      ],
      "execution_count": null,
      "outputs": []
    },
    {
      "cell_type": "code",
      "metadata": {
        "id": "ldUjLGc0sBtD"
      },
      "source": [
        "array[output]"
      ],
      "execution_count": null,
      "outputs": []
    },
    {
      "cell_type": "code",
      "metadata": {
        "id": "KAobnWz1sBtD"
      },
      "source": [
        "#you can combine boolean statements for more complicated operations\n",
        "mask = (array < 5) | (array > 15)\n",
        "mask"
      ],
      "execution_count": null,
      "outputs": []
    },
    {
      "cell_type": "markdown",
      "metadata": {
        "id": "amaZyqLjsBtD"
      },
      "source": [
        "## Practice boolean mask problem\n",
        "Given a matrix, change all of the negative values to zero"
      ]
    },
    {
      "cell_type": "code",
      "metadata": {
        "id": "WjOylPfesBtE"
      },
      "source": [
        "matrix = 2*np.random.rand(5, 5) - 1\n",
        "print(matrix)"
      ],
      "execution_count": null,
      "outputs": []
    },
    {
      "cell_type": "code",
      "metadata": {
        "id": "ADlSnsitsBtE"
      },
      "source": [
        "### SOLUTION ###\n",
        "mask = matrix < 0\n",
        "print(mask)\n",
        "matrix[mask] = 0\n",
        "print(matrix)"
      ],
      "execution_count": null,
      "outputs": []
    },
    {
      "cell_type": "markdown",
      "metadata": {
        "id": "x5j-lIHKsBtE"
      },
      "source": [
        "### Reshaping"
      ]
    },
    {
      "cell_type": "code",
      "metadata": {
        "id": "c00Pqu1asBtE"
      },
      "source": [
        "#when your reshape, by default you fill the new array by rows\n",
        "x = np.linspace(1, 12, 6)\n",
        "print(x)\n",
        "x = x.reshape((3,2)) #does not reshape in place!\n",
        "x"
      ],
      "execution_count": null,
      "outputs": []
    },
    {
      "cell_type": "markdown",
      "metadata": {
        "id": "UnFBd132sBtE"
      },
      "source": [
        "# Making Plots in Jupyter Notebook\n",
        "A Matplotlib figure can be categorized into several parts as below:\n",
        "    \n",
        "**Figure:** It is a whole figure which may contain one or more than one axes (plots). You can think of a Figure as a canvas which contains plots.\n",
        "\n",
        "**Axes:** It is what we generally think of as a plot. A Figure can contain many Axes. It contains two or three (in the case of 3D) Axis objects. Each Axes has a title, an x-label and a y-label.\n",
        "\n",
        "**Axis:** They are the number line like objects and take care of generating the graph limits."
      ]
    },
    {
      "cell_type": "code",
      "metadata": {
        "id": "iQ1nBPHesBtE"
      },
      "source": [
        "import matplotlib.pyplot as plt"
      ],
      "execution_count": null,
      "outputs": []
    },
    {
      "cell_type": "code",
      "metadata": {
        "id": "ROokl47jsBtF"
      },
      "source": [
        "x = np.arange(10)**2\n",
        "print(x)\n",
        "plt.plot(x)\n",
        "plt.show()"
      ],
      "execution_count": null,
      "outputs": []
    },
    {
      "cell_type": "code",
      "metadata": {
        "id": "NJI3SGdvsBtF"
      },
      "source": [
        "plt.figure(figsize = (15,15))\n",
        "plt.plot(x)\n",
        "plt.title(\"This is a graph\")\n",
        "plt.xlabel(\"this is the x label\")\n",
        "plt.ylabel(\"this is the y label\")\n",
        "plt.show()"
      ],
      "execution_count": null,
      "outputs": []
    },
    {
      "cell_type": "markdown",
      "metadata": {
        "id": "rXzyGAnJsBtF"
      },
      "source": [
        "# Part 2"
      ]
    },
    {
      "cell_type": "markdown",
      "metadata": {
        "id": "BBsXI_tpsBtF"
      },
      "source": [
        "### Data Structures in Python\n",
        "You may have noticed that it can be tricky to manipulate arrays in python because by default, python passed objects as references. In this section, we'll explain this behavior, and giving some debugging tools to use when confronted with related issues."
      ]
    },
    {
      "cell_type": "code",
      "metadata": {
        "id": "eu0mTvFhsBtF"
      },
      "source": [
        "array = np.linspace(1, 10, 10)\n",
        "array"
      ],
      "execution_count": null,
      "outputs": []
    },
    {
      "cell_type": "code",
      "metadata": {
        "id": "GNvpkhoJsBtF"
      },
      "source": [
        "dup = array\n",
        "dup"
      ],
      "execution_count": null,
      "outputs": []
    },
    {
      "cell_type": "code",
      "metadata": {
        "id": "PX5ml-ZJsBtG"
      },
      "source": [
        "array[0] = 100\n",
        "dup"
      ],
      "execution_count": null,
      "outputs": []
    },
    {
      "cell_type": "code",
      "metadata": {
        "id": "JtaaZB1KsBtG"
      },
      "source": [
        "print(id(array))\n",
        "print(id(dup))"
      ],
      "execution_count": null,
      "outputs": []
    },
    {
      "cell_type": "markdown",
      "metadata": {
        "id": "_9PzuzjjsBtG"
      },
      "source": [
        "### Notice that the dup and array point to the same object!\n",
        "How would we fix this?\n",
        "\n",
        "### Use the copy library, or np.array.copy\n",
        "IMPORTANT: Using the slicing syntax [:] doesn't always work"
      ]
    },
    {
      "cell_type": "code",
      "metadata": {
        "id": "kTticV1BsBtG"
      },
      "source": [
        "#slicing\n",
        "array = np.linspace(1, 10, 10)\n",
        "dup = array[:]\n",
        "print(id(array))\n",
        "print(id(dup))\n",
        "array[0] = 100\n",
        "dup"
      ],
      "execution_count": null,
      "outputs": []
    },
    {
      "cell_type": "code",
      "metadata": {
        "id": "4FLun5XzsBtG"
      },
      "source": [
        "#using copy\n",
        "import copy\n",
        "array = np.linspace(1, 10, 10)\n",
        "dup = copy.deepcopy(array)\n",
        "print(id(array))\n",
        "print(id(dup))\n",
        "array[0] = 100\n",
        "dup"
      ],
      "execution_count": null,
      "outputs": []
    },
    {
      "cell_type": "markdown",
      "metadata": {
        "id": "_OJ_pEOlsBtG"
      },
      "source": [
        "Beware of copy vs. deepcopy!\n",
        "\n",
        "https://docs.python.org/2/library/copy.html\n",
        "<img src=\"shallow_copy.png\">\n",
        "<img src=\"deep_copy.png\">"
      ]
    },
    {
      "cell_type": "code",
      "metadata": {
        "id": "mKq4eSx6sBtG"
      },
      "source": [
        "#numpy arrays also have a builtin copy function\n",
        "array = np.linspace(1, 10, 10)\n",
        "dup = array.copy()\n",
        "print(id(array))\n",
        "print(id(dup))\n",
        "array[0] = 100\n",
        "dup"
      ],
      "execution_count": null,
      "outputs": []
    },
    {
      "cell_type": "markdown",
      "metadata": {
        "id": "WnvYl6n8sBtH"
      },
      "source": [
        "### Let's try it with multidimensional arrays"
      ]
    },
    {
      "cell_type": "code",
      "metadata": {
        "id": "cQPWdSewsBtH"
      },
      "source": [
        "def display(img):\n",
        "    # Show image\n",
        "    plt.figure(figsize = (5,5))\n",
        "    plt.imshow(img)\n",
        "    plt.axis('off')\n",
        "    plt.show()\n",
        "    \n",
        "def load(image_path):\n",
        "    out = io.imread(image_path)\n",
        "\n",
        "    # Let's convert the image to be between the correct range.\n",
        "    out = out.astype(np.float64) / 255\n",
        "    return out"
      ],
      "execution_count": null,
      "outputs": []
    },
    {
      "cell_type": "code",
      "metadata": {
        "id": "BJu7_Y6CsBtH"
      },
      "source": [
        "from skimage import io\n",
        "img = load('image1.jpg')\n",
        "display(img)"
      ],
      "execution_count": null,
      "outputs": []
    },
    {
      "cell_type": "code",
      "metadata": {
        "id": "1iGVv405sBtH"
      },
      "source": [
        "def rgb_exclusion(image, channel):\n",
        "    out = image\n",
        "    if channel == 'R':\n",
        "        out[:, :, 0] = 0\n",
        "    elif channel == 'G':\n",
        "        out[:, :, 1] = 0\n",
        "    elif channel == 'B':\n",
        "        out[:, :, 2] = 0\n",
        "\n",
        "    return out\n",
        "\n",
        "no_green = rgb_exclusion(img, 'G')\n",
        "display(no_green)\n",
        "\n",
        "display(img)"
      ],
      "execution_count": null,
      "outputs": []
    },
    {
      "cell_type": "code",
      "metadata": {
        "id": "365d09m2sBtH"
      },
      "source": [
        "img = load('image1.jpg')\n",
        "display(img)"
      ],
      "execution_count": null,
      "outputs": []
    },
    {
      "cell_type": "code",
      "metadata": {
        "id": "uiBb4V_zsBtI"
      },
      "source": [
        "#TODO: How to fix?\n",
        "def rgb_exclusion(image, channel):\n",
        "    out = image.copy()\n",
        "    if channel == 'R':\n",
        "        out[:, :, 0] = 0\n",
        "    elif channel == 'G':\n",
        "        out[:, :, 1] = 0\n",
        "    elif channel == 'B':\n",
        "        out[:, :, 2] = 0\n",
        "\n",
        "    return out\n",
        "\n",
        "no_green = rgb_exclusion(img, 'G')\n",
        "display(no_green)\n",
        "\n",
        "display(img)"
      ],
      "execution_count": null,
      "outputs": []
    },
    {
      "cell_type": "markdown",
      "metadata": {
        "id": "e9mQPf8BsBtI"
      },
      "source": [
        "# Summary: when in doubt, use deepcopy"
      ]
    },
    {
      "cell_type": "markdown",
      "metadata": {
        "id": "-bTk0N4fsBtI"
      },
      "source": [
        "### Sorting"
      ]
    },
    {
      "cell_type": "code",
      "metadata": {
        "id": "QfvDUiPXsBtI"
      },
      "source": [
        "test = np.random.random(10)\n",
        "print(test)\n",
        "print(np.sort(test))\n",
        "print(np.argsort(test))"
      ],
      "execution_count": null,
      "outputs": []
    },
    {
      "cell_type": "markdown",
      "metadata": {
        "id": "1BI7KncvsBtI"
      },
      "source": [
        "### Linear Algebra\n",
        "We can use the np.linalg module to do a lot of linear algebra stuff withpretty clean syntax.\n",
        "\n",
        "For example, say we wanted to solve the linear system $$ Ax = b$$."
      ]
    },
    {
      "cell_type": "code",
      "metadata": {
        "id": "Z77NRw5fsBtI"
      },
      "source": [
        "A = np.array([[1, 1], [2, 1]])\n",
        "b = np.array([[1], [0]])\n",
        "#This function takes parameters A, b, and returns x such that Ax =b. \n",
        "x = np.linalg.solve(A, b)\n",
        "x              "
      ],
      "execution_count": null,
      "outputs": []
    },
    {
      "cell_type": "markdown",
      "metadata": {
        "id": "ZyWB8AxVsBtJ"
      },
      "source": [
        "### How about more complicated stuff?\n",
        "Imagine trying to find a line of best fit.\n",
        "\n",
        "Linear regression finds the \"line of best fit\" by minimizing the residual sum of squares.\n",
        "\n",
        "If we have n datapoints $\\{(x_1, y_1), ... ,(x_n, y_n)\\}$, the objective function takes the form\n",
        "$$loss(X) = \\Sigma_{i = 1}^n (y_i - f(x_i))^2$$ where $$f(x_i) = \\theta_0 + \\theta_1 x_1 + ... +\\theta_n x_n$$\n",
        "\n",
        "It turns out the parameters such that the loss function is minimized are given by the closed form solution\n",
        "\n",
        "$$\\theta = (X^T X)^{-1} X^T y$$\n",
        "\n",
        "Let's see it in action!!!"
      ]
    },
    {
      "cell_type": "code",
      "metadata": {
        "id": "HFeFG3AmsBtK"
      },
      "source": [
        "x = np.concatenate((np.linspace(1, 5, 10).reshape(10, 1), np.ones(10).reshape(10, 1)), axis = 1)\n",
        "y = x[:,0].copy() + 2*np.random.rand(10) - 0.5\n",
        "plt.scatter(x[:,0], y)"
      ],
      "execution_count": null,
      "outputs": []
    },
    {
      "cell_type": "code",
      "metadata": {
        "id": "B63zUDk3sBtK"
      },
      "source": [
        "theta = np.linalg.lstsq(x, y, rcond=None)[0]\n",
        "print(theta)"
      ],
      "execution_count": null,
      "outputs": []
    },
    {
      "cell_type": "code",
      "metadata": {
        "id": "8ax2gndJsBtK"
      },
      "source": [
        "plt.scatter(x[:,0], y)\n",
        "plt.plot(x[:,0], x[:,0]*theta[0] + theta[1])"
      ],
      "execution_count": null,
      "outputs": []
    },
    {
      "cell_type": "code",
      "metadata": {
        "id": "zk_sRrdfsBtK"
      },
      "source": [
        "theta = np.linalg.inv(x.T.dot(x)).dot(x.T).dot(y)\n",
        "print(theta)"
      ],
      "execution_count": null,
      "outputs": []
    },
    {
      "cell_type": "markdown",
      "metadata": {
        "id": "VvQ8QXr2sBtK"
      },
      "source": [
        "### Vectorizing equations\n",
        "In a couple of homeworks, you'll gain experience formulating equations in matrix format.  This can be really tough, so let's go through an example for how to think about it!"
      ]
    },
    {
      "cell_type": "markdown",
      "metadata": {
        "id": "0lIYtYg5sBtK"
      },
      "source": [
        "Suppose we didn't know that linear regression had a closed form solution. We could also solve the problem above using gradient descent.\n",
        "\n",
        "The gradient descent update rule looks like this:\n",
        "$$\\theta_{t+1} =\\theta_t - \\alpha \\nabla_{\\theta} L(\\theta, X)$$\n",
        "\n",
        "So we need to find the gradient with respect to $\\theta$. Recall that a gradient is a vector of partial derivatives.  So let's start by finding just one partial derivative.\n",
        "\n",
        "$$\\frac{\\partial}{\\partial \\theta_j}L(\\theta, X) = \\Sigma_{i = 1}^n 2(y_i - f(x_i))(-x_i[j])$$ where $$f(x_i) = \\theta_0 + \\theta_1 x_1 + ... +\\theta_n x_n$$\n",
        "\n",
        "Now the task is to get this into matrix format! Our theta vector is $\\theta = [\\theta_0,\\theta_1] \\in R^2$. Notice that our residuals can be written as a vector, $y - f(\\theta, X) \\in R^n$.\n",
        "\n",
        "In matrix multiplication, we dot the row of the first matrix with the columns of the second matrix.  A sum (like above) can oftern be expressed as a row times a column.\n",
        "\n",
        "$$\\theta_{t+1} =\\theta_t - \\alpha X^T (y - f(X, \\theta))$$\n",
        "\n",
        "\n",
        "\n",
        "\n",
        "    "
      ]
    },
    {
      "cell_type": "markdown",
      "metadata": {
        "id": "7k7r3SvBsBtL"
      },
      "source": [
        "### Additional Resources\n",
        "https://www.youtube.com/watch?v=8Mpc9ukltVA\n",
        "\n",
        "https://jakevdp.github.io/PythonDataScienceHandbook/02.01-understanding-data-types.html\n",
        "\n",
        "https://towardsdatascience.com/matplotlib-tutorial-learn-basics-of-pythons-powerful-plotting-library-b5d1b8f67596\n",
        "\n",
        "https://scipy-cookbook.readthedocs.io/items/ViewsVsCopies.html\n",
        "\n",
        "https://www.geeksforgeeks.org/copy-python-deep-copy-shallow-copy/"
      ]
    }
  ]
}